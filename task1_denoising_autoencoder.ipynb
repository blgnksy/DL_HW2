{
 "cells": [
  {
   "cell_type": "markdown",
   "metadata": {},
   "source": [
    "# Implementing a denoising autoencoder\n",
    "\n",
    "*Complete and hand in this completed worksheet (including its outputs and any supporting code outside of the worksheet) with your assignment submission. For more details see the [HW page](http://kovan.ceng.metu.edu.tr/~sinan/DL/index.html) on the course website.*\n",
    "\n",
    "In this exercise we will develop a denoising autoencoder, and test it out on the MNIST dataset."
   ]
  },
  {
   "cell_type": "code",
   "execution_count": 1,
   "metadata": {
    "collapsed": false
   },
   "outputs": [],
   "source": [
    "# A bit of setup\n",
    "\n",
    "import numpy as np\n",
    "import matplotlib.pyplot as plt\n",
    "\n",
    "%matplotlib inline\n",
    "plt.rcParams['figure.figsize'] = (10.0, 8.0) # set default size of plots\n",
    "plt.rcParams['image.interpolation'] = 'nearest'\n",
    "plt.rcParams['image.cmap'] = 'gray'\n",
    "\n",
    "# for auto-reloading external modules\n",
    "# see http://stackoverflow.com/questions/1907993/autoreload-of-modules-in-ipython\n",
    "%load_ext autoreload\n",
    "%autoreload 2\n",
    "\n",
    "def rel_error(x, y):\n",
    "  \"\"\" returns relative error \"\"\"\n",
    "  return np.max(np.abs(x - y) / (np.maximum(1e-8, np.abs(x) + np.abs(y))))"
   ]
  },
  {
   "cell_type": "markdown",
   "metadata": {},
   "source": [
    "We will use the class `DenoisingAutoencoder` in the file `METU/denoising_autoencoder.py` to represent instances of our network. The network parameters are stored in the instance variable `self.params` where keys are string parameter names and values are numpy arrays. Below, we initialize toy data and a toy model that we will use to develop your implementation."
   ]
  },
  {
   "cell_type": "code",
   "execution_count": 2,
   "metadata": {
    "collapsed": false
   },
   "outputs": [
    {
     "name": "stdout",
     "output_type": "stream",
     "text": [
      "Ok, now we have a toy network\n"
     ]
    }
   ],
   "source": [
    "from METU.denoising_autoencoder import DenoisingAutoencoder\n",
    "from METU.Noise import Noise, GaussianNoise\n",
    "\n",
    "# Create a small net and some toy data to check your implementations.\n",
    "# Note that we set the random seed for repeatable experiments.\n",
    "\n",
    "input_size = 4\n",
    "hidden_size = 2\n",
    "num_inputs = 100\n",
    "# Outputs are equal to the inputs\n",
    "network_size = (input_size, hidden_size, input_size)\n",
    "\n",
    "def init_toy_model(num_inputs, input_size):\n",
    "  np.random.seed(0)\n",
    "  net = DenoisingAutoencoder((input_size, hidden_size, input_size))\n",
    "  net.init_weights()\n",
    "  return net\n",
    "\n",
    "def init_toy_data(num_inputs, input_size):\n",
    "  np.random.seed(1)\n",
    "  X = np.random.randn(num_inputs, input_size)\n",
    "  return X\n",
    "\n",
    "net = init_toy_model(num_inputs, input_size)\n",
    "X = init_toy_data(num_inputs, input_size)\n",
    "print \"Ok, now we have a toy network\""
   ]
  },
  {
   "cell_type": "markdown",
   "metadata": {},
   "source": [
    "# Forward pass: compute loss\n",
    "Open the file `METU/denoising_autoencoder.py` and look at the method `DenoisingAutoencoder.loss`. This function is very similar to the loss functions you have written in the first HW: It takes the data and weights and computes the class scores, the loss, and the gradients on the parameters. \n",
    "\n",
    "Implement the first part of the forward pass which uses the weights and biases to compute the scores for the corrupted input. In the same function, implement the second part that computes the data and the regularization losses."
   ]
  },
  {
   "cell_type": "code",
   "execution_count": 28,
   "metadata": {
    "collapsed": false
   },
   "outputs": [
    {
     "name": "stdout",
     "output_type": "stream",
     "text": [
      "Your loss value:[[  5.44335756e-01   2.27602919e+00   1.88486290e-01   3.95492042e-02]\n",
      " [  8.22145464e-01   1.44809123e+01   7.33756214e+00   9.35028136e-01]\n",
      " [  3.13289630e+00   8.40251358e-01   2.00971878e+00   1.15267150e+00]\n",
      " [  4.53834061e+00   2.88324659e+00   3.53853028e+00   2.10505166e-01]\n",
      " [  3.99400313e+00   9.51969729e+00   3.01498026e+00   8.88799141e+00]\n",
      " [  1.02440927e+01   1.89404267e-01   3.31464640e+00   5.53019310e+00]\n",
      " [  1.50284610e+00   3.12286025e+00   7.54164936e-02   2.12718539e-01]\n",
      " [  6.84105062e+00   1.70476167e-02   7.55288945e-01   3.77196846e-01]\n",
      " [  7.08559563e+00   2.58712054e+00   3.34971774e-01   1.10693528e+00]\n",
      " [  9.75301849e+00   7.45534165e+00   1.67663185e+01   1.50940546e+01]\n",
      " [  5.26815365e+00   1.24292148e+01   1.70588127e+00   2.06530453e+01]\n",
      " [  4.53472729e+00   1.73825167e+01   1.00374333e+01   3.37375115e+01]\n",
      " [  4.80276131e+00   4.13958917e-01   6.52134830e-01   1.52894614e+00]\n",
      " [  9.12183981e+00   2.26230443e+00   1.23135272e-01   4.00697632e+00]\n",
      " [  3.50274229e+00   3.19059356e+00   4.84999994e+00   1.53449863e+01]\n",
      " [  8.99404705e+00   6.11158970e-02   6.28700384e-01   1.11739450e+00]\n",
      " [  4.70918412e+00   4.45734048e+01   5.19246165e+01   6.72842954e+01]\n",
      " [  6.74520772e-03   7.64512965e+00   6.16467525e-01   1.36926388e+00]\n",
      " [  4.79888995e+00   8.96562549e-02   1.53496927e-02   1.12638422e+00]\n",
      " [  6.35405521e+00   5.36087499e-01   1.19100545e+00   6.83960944e+00]\n",
      " [  5.28817181e+00   2.74804589e+00   9.81027199e-01   4.60001849e+00]\n",
      " [  3.91447640e+00   2.56315309e+00   1.46673118e-01   5.65115025e+00]\n",
      " [  4.59095515e+00   1.07330527e+00   7.21942525e+00   6.85749758e+00]\n",
      " [  5.45359984e+00   3.56680496e+00   1.10068144e+00   2.55112339e+00]\n",
      " [  7.03436682e+00   2.61848614e+00   1.05958201e-01   7.10614580e+00]\n",
      " [  7.78101942e+00   3.77238440e+00   8.59512898e+00   1.58812453e+01]\n",
      " [  1.03760321e+01   2.15679310e-01   4.16884786e-01   6.66136464e-03]\n",
      " [  6.01253953e+00   1.18874824e+00   9.45369848e-01   3.07461223e+00]\n",
      " [  1.45799768e+00   4.60735881e+00   9.65901672e-01   7.25429891e-02]\n",
      " [  3.30166476e+00   9.30672995e+00   4.03704506e+00   4.29118524e+00]\n",
      " [  5.52087695e+00   3.46638677e+01   3.46030091e+01   5.16889069e+01]\n",
      " [  1.48102134e+01   1.64973511e-02   5.44581786e+00   3.78452677e+00]\n",
      " [  1.21993524e+01   5.53581076e-02   1.11858720e-01   1.67891399e-01]\n",
      " [  1.05077311e+01   7.06521127e-02   8.58260289e-01   2.41375980e-01]\n",
      " [  2.29856320e+00   8.31670853e+00   3.69065511e+00   4.16638603e+00]\n",
      " [  5.76050628e+00   1.04572898e+01   1.16095434e+01   1.67063082e+01]\n",
      " [  3.28619750e+00   5.04463652e+00   3.14297579e+00   1.07087747e+01]\n",
      " [  5.61037131e+00   1.03371795e-01   7.35017678e-01   2.66706437e+00]\n",
      " [  2.90457307e+00   1.30884546e-01   4.66068316e+00   7.68500071e+00]\n",
      " [  5.22922311e+00   6.62824264e-01   7.11047731e-03   1.57979582e-02]\n",
      " [  5.23429027e+00   4.39160235e+00   6.12879362e-01   1.10023035e+00]\n",
      " [  3.97555229e+00   4.18685168e+00   4.33441635e+00   5.81206596e+00]\n",
      " [  6.67529298e-02   3.07123614e+01   5.56353388e+00   2.26724474e+01]\n",
      " [  8.10550912e-03   1.41755088e+01   8.20128727e+00   1.24960488e+01]\n",
      " [  8.90064334e-01   4.96938680e+00   3.72117716e+00   3.63521008e+00]\n",
      " [  1.09209654e+01   2.98976713e+00   3.78625561e+00   1.27550404e+01]\n",
      " [  4.37026409e+00   6.03560233e+00   3.27085369e+00   5.37900544e+00]\n",
      " [  2.78901697e+00   3.24810970e+00   5.28303948e+00   5.46850462e+00]\n",
      " [  8.07970054e-01   1.20305015e-02   8.34803854e-01   7.11019533e-03]\n",
      " [  5.08864678e+00   2.17729691e+01   2.70322878e+01   4.01359196e+01]\n",
      " [  6.88212669e+00   1.76582750e+00   8.65542947e-01   1.90914735e+01]\n",
      " [  1.17656216e+01   5.17487536e+00   3.47374978e+00   8.32216978e-03]\n",
      " [  1.40362302e+01   2.50702207e+00   7.73938315e-01   2.88687579e-01]\n",
      " [  1.66076086e+00   8.34412081e+00   1.27672649e-01   1.19973022e+01]\n",
      " [  2.24038130e+00   6.48232062e+00   8.36282828e+00   6.18971504e+00]\n",
      " [  6.18964263e-01   3.49446020e+00   1.03615476e+01   7.63248926e+00]\n",
      " [  1.62879144e+01   3.26050057e+00   7.72168972e-01   8.17907800e-01]\n",
      " [  7.14534303e+00   1.79716537e+00   5.53719832e-01   2.61498304e+00]\n",
      " [  3.97117116e+00   1.02653126e+00   6.66343686e-02   7.70539596e-03]\n",
      " [  1.00482924e+01   2.86166483e+00   1.69844775e+00   4.57124035e+00]\n",
      " [  6.50041800e+00   7.81373331e-01   2.50815020e-02   2.59096137e-01]\n",
      " [  9.22366027e+00   4.05804282e-01   1.50777955e+00   1.36940413e+00]\n",
      " [  3.34294342e-01   8.66577671e+00   2.96601140e-01   2.99041528e+00]\n",
      " [  2.54357146e+01   2.09503308e+00   1.27351292e-02   4.19547261e-02]\n",
      " [  4.52342194e-01   2.10638529e+00   2.61685716e+00   3.19152902e+00]\n",
      " [  2.82066295e+00   6.94370049e+00   1.77957882e+00   9.68937059e-01]\n",
      " [  5.45937861e+00   3.92559181e-01   1.79080707e+00   5.82114070e+00]\n",
      " [  3.57716665e+00   1.79023792e+01   1.42963115e+01   2.72167619e+01]\n",
      " [  3.14577689e+00   1.76921744e-01   1.66632751e+00   6.95660574e-03]\n",
      " [  1.32385660e+01   3.43078272e-01   7.87240291e-01   1.21922978e+01]\n",
      " [  7.31763445e+00   6.31309522e+00   2.60195194e+00   1.03157878e+01]\n",
      " [  4.88579178e+00   6.36188416e+00   4.45057497e+00   9.91324541e+00]\n",
      " [  1.08900048e+01   9.22418261e-01   2.37615456e-02   1.70185118e+00]\n",
      " [  2.42826044e+00   4.55598387e+00   5.29380722e-01   2.04714649e+00]\n",
      " [  5.19885924e+00   7.68525980e-01   3.31398628e-02   6.86199797e+00]\n",
      " [  7.95031701e-02   6.12313373e+00   3.74120114e-01   2.28616672e-01]\n",
      " [  6.71159495e+00   7.32213577e-01   6.60312785e-03   1.95817828e-01]\n",
      " [  1.96520460e+00   7.72005717e+00   7.37059292e+00   7.34902040e+00]\n",
      " [  2.07358113e+00   7.74901564e+01   1.14186407e+02   8.07984415e+01]\n",
      " [  2.26313216e+00   7.94794983e-01   3.82655835e-01   9.47609965e-02]\n",
      " [  4.37777768e+00   2.67294782e+00   2.24659546e-01   9.80477541e-02]\n",
      " [  5.47485444e+00   4.31539322e+00   2.12638642e+00   2.08535823e+01]\n",
      " [  6.76349209e+00   2.33602623e+00   5.97318103e+00   1.64984126e+01]\n",
      " [  7.57600275e+00   7.79169716e-01   2.69795832e+00   1.79382659e-01]\n",
      " [  1.65302136e+01   5.50103754e+00   7.90955998e+00   1.91660182e+00]\n",
      " [  9.13396304e+00   9.01518273e-02   1.15852954e-01   2.93502272e+00]\n",
      " [  4.91363706e+00   1.79930089e+00   2.63852311e-01   2.14645869e+00]\n",
      " [  2.20261422e+00   1.58446535e+01   1.08701699e+01   1.52228489e+01]\n",
      " [  6.69574233e+00   8.15952649e-03   4.48740490e-01   4.63781362e-01]\n",
      " [  4.31955914e+00   9.24550625e-01   1.97730802e-01   2.00892143e-01]\n",
      " [  9.16696471e+00   9.84693348e-03   3.15304100e+00   2.97183599e+00]\n",
      " [  7.32456017e+00   1.27000704e-01   7.44463590e-03   3.97799961e+00]\n",
      " [  3.03716128e+00   5.64724641e-01   1.11202163e-01   9.02706614e-01]\n",
      " [  1.76023590e+00   1.59928875e+01   2.37111674e+01   1.86901366e+01]\n",
      " [  1.94616107e-01   1.12765582e+01   9.68239799e-03   1.28694912e+01]\n",
      " [  3.57936791e+00   4.56931581e-01   3.16404869e+00   4.91610940e-01]\n",
      " [  2.09200292e+00   2.56970027e+00   4.27630005e-01   2.31499446e+00]\n",
      " [  9.20622971e+00   8.05930328e+00   8.01102703e-02   1.85467071e+01]\n",
      " [  9.39267054e+00   1.07586860e+01   4.19425473e+00   2.29101778e+01]\n",
      " [  1.59985560e+01   2.73542709e+00   3.76279551e+00   2.40701512e+01]]\n",
      "Difference between your loss and correct loss:\n",
      "2105.12704491\n"
     ]
    }
   ],
   "source": [
    "loss,_ = net.loss(GaussianNoise(0.5)(X), X, reg=3e-3, activation_function='sigmoid')\n",
    "\n",
    "correct_loss = 2.42210627243\n",
    "print 'Your loss value:' + str(loss)\n",
    "\n",
    "print 'Difference between your loss and correct loss:'\n",
    "print np.sum(np.abs(loss - correct_loss))"
   ]
  },
  {
   "cell_type": "markdown",
   "metadata": {},
   "source": [
    "# Backward pass\n",
    "Implement the rest of the function. This will compute the gradient of the loss with respect to the variables `W1`, `b1`, `W2`, and `b2`. Now that you (hopefully!) have a correctly implemented forward pass, you can debug your backward pass using a numeric gradient check:"
   ]
  },
  {
   "cell_type": "code",
   "execution_count": null,
   "metadata": {
    "collapsed": false,
    "scrolled": true
   },
   "outputs": [],
   "source": [
    "from METU.gradient_check import eval_numerical_gradient\n",
    "\n",
    "reg = 3e-3\n",
    "\n",
    "# Use numeric gradient checking to check your implementation of the backward pass.\n",
    "# If your implementation is correct, the difference between the numeric and\n",
    "# analytic gradients should be less than 1e-8 for each of W1, W2, b1, and b2.\n",
    "\n",
    "net.init_weights()\n",
    "noisy_X = GaussianNoise(0.5)(X)\n",
    "loss, grads = net.loss(noisy_X, X, reg, activation_function='tanh')\n",
    "\n",
    "# these should all be less than 1e-5 or so\n",
    "f = lambda W: net.loss(noisy_X, X, reg, activation_function='tanh')[0]\n",
    "W1_grad = eval_numerical_gradient(f, net.weights[1]['W'], verbose=False)\n",
    "print '%s max relative error: %e' % (\"W1\", rel_error(W1_grad, grads[1]['W']))\n",
    "W0_grad = eval_numerical_gradient(f, net.weights[0]['W'], verbose=False)\n",
    "print '%s max relative error: %e' % (\"W0\", rel_error(W0_grad, grads[0]['W']))"
   ]
  },
  {
   "cell_type": "markdown",
   "metadata": {},
   "source": [
    "# Train the network\n",
    "To train the network we will use stochastic gradient descent (SGD). Look at the function `DenoisingAutoencoder.train_with_SGD` and fill in the missing sections to implement the training procedure. This should be very similar to the training procedures you used in the first HW. \n",
    "\n",
    "Once you have implemented the method, run the code below to train the network on toy data. You should achieve a training loss less than 2.0."
   ]
  },
  {
   "cell_type": "code",
   "execution_count": null,
   "metadata": {
    "collapsed": false,
    "scrolled": false
   },
   "outputs": [],
   "source": [
    "net = init_toy_model(num_inputs, input_size)\n",
    "reg = 3e-3\n",
    "stats = net.train_with_SGD(X, noise=GaussianNoise(sd=0.5),\n",
    "            learning_rate=0.02, learning_rate_decay=0.95, \n",
    "            reg=reg, batchsize=100, num_iters=500, verbose=False, activation_function='sigmoid')\n",
    "\n",
    "print 'Final training loss: ', stats['loss_history'][-1]\n",
    "# plot the loss history\n",
    "plt.plot(stats['loss_history'])\n",
    "plt.xlabel('iteration')\n",
    "plt.ylabel('training loss')\n",
    "plt.title('Training Loss history')\n",
    "plt.show()"
   ]
  },
  {
   "cell_type": "markdown",
   "metadata": {},
   "source": [
    "# Load the data\n",
    "Now that you have implemented a DAE network that passes gradient checks and works on toy data, it's time to load up the MNIST dataset so we can use it to train DAE on a real dataset. Make sure that you have run \"cs231n/datasets/get_datasets.sh\" script before you continue with this step."
   ]
  },
  {
   "cell_type": "code",
   "execution_count": null,
   "metadata": {
    "collapsed": false
   },
   "outputs": [],
   "source": [
    "from cs231n.data_utils import load_mnist\n",
    "\n",
    "X_train, y_train, X_val, y_val, X_test, y_test = load_mnist()\n",
    "X_train = X_train.reshape(X_train.shape[0], -1)\n",
    "X_val = X_val.reshape(X_val.shape[0], -1)\n",
    "X_test = X_test.reshape(X_test.shape[0], -1)\n",
    "    \n",
    "print 'Train data shape: ', X_train.shape\n",
    "print 'Train labels shape: ', y_train.shape\n",
    "print 'Test data shape: ', X_test.shape\n",
    "print 'Test labels shape: ', y_test.shape"
   ]
  },
  {
   "cell_type": "code",
   "execution_count": null,
   "metadata": {
    "collapsed": false
   },
   "outputs": [],
   "source": [
    "#Visualize some samples\n",
    "\n",
    "x = np.reshape(X_train[100], (28,28))\n",
    "\n",
    "plt.imshow(x)\n",
    "plt.title(y_train[0])\n",
    "plt.show()\n",
    "\n",
    "plt.imshow(GaussianNoise(rate=0.5,sd=0.5)(x))\n",
    "plt.show()\n",
    "# Yes, DAE will learn to reconstruct from such corrupted data"
   ]
  },
  {
   "cell_type": "markdown",
   "metadata": {},
   "source": [
    "# Train a network\n",
    "To train our network we will use SGD with momentum. In addition, we will adjust the learning rate with an exponential learning rate schedule as optimization proceeds; after each epoch, we will reduce the learning rate by multiplying it by a decay rate."
   ]
  },
  {
   "cell_type": "code",
   "execution_count": null,
   "metadata": {
    "collapsed": false
   },
   "outputs": [],
   "source": [
    "import time\n",
    "\n",
    "input_size = 28 * 28\n",
    "hidden_size = 300 # Try also sizes bigger than 28*28\n",
    "\n",
    "reg = 0.0001 # 3e-3\n",
    "\n",
    "net = DenoisingAutoencoder((input_size, hidden_size, input_size))\n",
    "net.init_weights(13)\n",
    "\n",
    "# Train with SGD\n",
    "tic = time.time()\n",
    "stats = net.train_with_SGD(X_train, noise=GaussianNoise(rate=0.5,sd=0.5),\n",
    "            learning_rate=0.02, learning_rate_decay=0.95, \n",
    "            reg=reg, num_iters=1000, batchsize=128, momentum='classic', mu=0.9, verbose=True, \n",
    "            activation_function='sigmoid')\n",
    "toc = time.time()\n",
    "print toc-tic, 'sec elapsed'"
   ]
  },
  {
   "cell_type": "markdown",
   "metadata": {},
   "source": [
    "# Debug the training\n",
    "With the default parameters we provided above, you should get a validation accuracy of about 0.29 on the validation set. This isn't very good.\n",
    "\n",
    "One strategy for getting insight into what's wrong is to plot the loss function and the accuracies on the training and validation sets during optimization.\n",
    "\n",
    "Another strategy is to visualize the weights that were learned in the first layer of the network. In most neural networks trained on visual data, the first layer weights typically show some visible structure when visualized."
   ]
  },
  {
   "cell_type": "code",
   "execution_count": null,
   "metadata": {
    "collapsed": false
   },
   "outputs": [],
   "source": [
    "# Plot the loss function and train / validation accuracies\n",
    "plt.subplot(2, 1, 1)\n",
    "plt.plot(stats['loss_history'])\n",
    "plt.title('Loss history')\n",
    "plt.xlabel('Iteration')\n",
    "plt.ylabel('Loss')\n",
    "\n",
    "plt.show()"
   ]
  },
  {
   "cell_type": "code",
   "execution_count": null,
   "metadata": {
    "collapsed": false
   },
   "outputs": [],
   "source": [
    "#from cs231n.vis_utils import visualize_grid\n",
    "#from cs231n.vis_utils import visualize_grid_2D\n",
    "\n",
    "# SHOW SOME WEIGHTS\n",
    "W0 = net.weights[0]['W']\n",
    "W0 = W0.T\n",
    "num_of_samples=100\n",
    "for i in range(0,10):\n",
    "    for j in range(0,10):\n",
    "        plt.subplot(10, 10, i*10+j+1)\n",
    "        rand_index = np.random.random_integers(0,W0.shape[0]-1,1)\n",
    "        plt.imshow(W0[rand_index].reshape(28,28))\n",
    "        plt.axis('off')\n",
    "plt.show()"
   ]
  },
  {
   "cell_type": "code",
   "execution_count": null,
   "metadata": {
    "collapsed": false
   },
   "outputs": [],
   "source": [
    "# SHOW SOME RECONSTRUCTIONS\n",
    "plt_index=1\n",
    "for i in range(0,10):\n",
    "    rand_index = np.random.random_integers(0,X_train.shape[0]-1,1)\n",
    "    x = X_train[rand_index]\n",
    "    x_noisy = GaussianNoise(rate=0.5,sd=0.5)(x)\n",
    "    x_recon = net.predict(x_noisy)\n",
    "    #x_loss,_ = net.loss(x_noisy, x, reg=0.0, activation_function='sigmoid')\n",
    "    \n",
    "    plt.subplot(10,3,plt_index)\n",
    "    plt.imshow(x.reshape(28,28))\n",
    "    plt.axis('off')\n",
    "    if i == 0: plt.title('input')\n",
    "    plt_index+=1\n",
    "    plt.subplot(10,3,plt_index)\n",
    "    plt.imshow(x_noisy.reshape(28,28))\n",
    "    plt.axis('off')\n",
    "    if i == 0: plt.title('corrupted input')\n",
    "    plt_index+=1\n",
    "    plt.subplot(10,3,plt_index)\n",
    "    plt.imshow(x_recon.reshape(28,28))\n",
    "    plt.axis('off')\n",
    "    if i == 0: plt.title('reconstruction')\n",
    "    plt_index+=1"
   ]
  },
  {
   "cell_type": "markdown",
   "metadata": {},
   "source": [
    "# Tune your hyperparameters\n",
    "\n",
    "**What's wrong?**. Look at the visualizations above and try to come up with strategies for improving your training. With some effort, I came up with the following weights (which are also not perfect) and reconstructions (which are quite good):\n",
    "\n",
    "<img src=\"dae_learned_representation.png\">\n",
    "\n",
    "<img src=\"dae_learned_representation_demo.png\">\n"
   ]
  }
 ],
 "metadata": {
  "kernelspec": {
   "display_name": "Python 2",
   "language": "python",
   "name": "python2"
  },
  "language_info": {
   "codemirror_mode": {
    "name": "ipython",
    "version": 2
   },
   "file_extension": ".py",
   "mimetype": "text/x-python",
   "name": "python",
   "nbconvert_exporter": "python",
   "pygments_lexer": "ipython2",
   "version": "2.7.13"
  }
 },
 "nbformat": 4,
 "nbformat_minor": 0
}
